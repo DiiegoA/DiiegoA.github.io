{
 "cells": [
  {
   "cell_type": "code",
   "execution_count": 33,
   "metadata": {},
   "outputs": [],
   "source": [
    "import pandas as pd\n",
    "import networkx as nx\n",
    "from pyvis.network import Network"
   ]
  },
  {
   "cell_type": "code",
   "execution_count": 34,
   "metadata": {},
   "outputs": [],
   "source": [
    "ruta= 'C:/Users/tobby/OneDrive/Escritorio/Proyecto/relaciones_publicas_y_protocolo.xlsx'\n",
    "df = pd.read_excel(ruta)\n",
    "\n",
    "# Convertir todo el DataFrame a strings\n",
    "df = df.astype(str)"
   ]
  },
  {
   "cell_type": "code",
   "execution_count": 59,
   "metadata": {},
   "outputs": [],
   "source": [
    "#df.head()"
   ]
  },
  {
   "cell_type": "code",
   "execution_count": 36,
   "metadata": {},
   "outputs": [
    {
     "name": "stdout",
     "output_type": "stream",
     "text": [
      "Lista de columnas: ['titulo', 'nombre', 'cargo', 'empresa', 'junta_directiva_1', 'junta_directiva_2', 'consejo_directivo', 'gremio_adscrito', 'nick', 'direccion', 'tel_directo', 'tel_secretaria', 'celulares', 'email', 'email_secretaria', 'email_2', 'asistente', 'cedula', 'cumpleanos', 'observaciones', 'sector', 'gremio_grupo', 'web', 'ciudad', 'pais', 'region', 'actualizado']\n"
     ]
    }
   ],
   "source": [
    "# Obtén la lista de todas las columnas\n",
    "columnas = df.columns.tolist()\n",
    "\n",
    "# Imprime la lista de columnas\n",
    "print(\"Lista de columnas:\", columnas)"
   ]
  },
  {
   "cell_type": "code",
   "execution_count": 56,
   "metadata": {},
   "outputs": [],
   "source": [
    "# Crear un grafo vacío\n",
    "G = nx.Graph()\n",
    "\n",
    "# Iterar a través de las filas del DataFrame y agregar nodos y conexiones al grafo\n",
    "for index, row in df.iterrows():\n",
    "    source = row['titulo']\n",
    "    target = row['nombre']\n",
    "    \n",
    "    # Verificar si los nodos ya existen en el grafo y agregarlos si no existen\n",
    "    if not G.has_node(source):\n",
    "        G.add_node(source)\n",
    "    if not G.has_node(target):\n",
    "        G.add_node(target)\n",
    "    \n",
    "    # Agregar atributos al nodo source desde las otras columnas del DataFrame\n",
    "    atributos_source = {columna: valor for columna, valor in row.items() if columna != 'titulo' and columna != 'nombre'}\n",
    "    G.nodes[source].update(atributos_source)\n",
    "    \n",
    "    # Agregar atributos al nodo target desde las otras columnas del DataFrame\n",
    "    atributos_target = {columna: valor for columna, valor in row.items() if columna != 'titulo' and columna != 'nombre'}\n",
    "    G.nodes[target].update(atributos_target)\n",
    "    \n",
    "    # Agregar la conexión entre source y target\n",
    "    G.add_edge(source, target)"
   ]
  },
  {
   "cell_type": "code",
   "execution_count": 60,
   "metadata": {},
   "outputs": [],
   "source": [
    "# # Obtener información básica sobre el grafo G\n",
    "# num_nodos = G.number_of_nodes()\n",
    "# num_aristas = G.number_of_edges()\n",
    "\n",
    "# # Imprimir la información del grafo\n",
    "# print(f\"Número de nodos: {num_nodos}\")\n",
    "# print(f\"Número de aristas: {num_aristas}\")"
   ]
  },
  {
   "cell_type": "code",
   "execution_count": 61,
   "metadata": {},
   "outputs": [],
   "source": [
    "# # Imprimir los Nodos\n",
    "# G.nodes()"
   ]
  },
  {
   "cell_type": "code",
   "execution_count": 62,
   "metadata": {},
   "outputs": [],
   "source": [
    "# # Imprimir las aristas\n",
    "# G.edges()"
   ]
  },
  {
   "cell_type": "code",
   "execution_count": 58,
   "metadata": {},
   "outputs": [
    {
     "name": "stdout",
     "output_type": "stream",
     "text": [
      "Warning: When  cdn_resources is 'local' jupyter notebook has issues displaying graphics on chrome/safari. Use cdn_resources='in_line' or cdn_resources='remote' if you have issues viewing graphics in a notebook.\n",
      "Gra.html\n"
     ]
    },
    {
     "data": {
      "text/html": [
       "\n",
       "        <iframe\n",
       "            width=\"1000px\"\n",
       "            height=\"700px\"\n",
       "            src=\"Gra.html\"\n",
       "            frameborder=\"0\"\n",
       "            allowfullscreen\n",
       "            \n",
       "        ></iframe>\n",
       "        "
      ],
      "text/plain": [
       "<IPython.lib.display.IFrame at 0x162248cf550>"
      ]
     },
     "execution_count": 58,
     "metadata": {},
     "output_type": "execute_result"
    }
   ],
   "source": [
    "# Crear una instancia de Network\n",
    "net = Network(notebook=True, width=\"1000px\", height=\"700px\", bgcolor='#222222', font_color='white')\n",
    "\n",
    "# Agregar nodos y aristas desde el grafo de NetworkX\n",
    "net.from_nx(G)\n",
    "\n",
    "# Obtener los nombres de los nodos como una lista\n",
    "nombres_nodos = list(G.nodes())\n",
    "\n",
    "# Configurar las etiquetas de los nodos para mostrar al hacer hover\n",
    "for i, node_data in enumerate(net.nodes):\n",
    "    # Obtén el nombre del nodo desde la lista\n",
    "    nombre_nodo = nombres_nodos[i]\n",
    "\n",
    "    # Crear una etiqueta basada en los atributos del nodo (edge_attr)\n",
    "    etiqueta = \"\\n\".join([f\"{key}: {node_data[key]}\" for key in G.nodes[nombre_nodo].keys()])\n",
    "\n",
    "    # Configura la etiqueta del nodo\n",
    "    node_data['title'] = etiqueta\n",
    "\n",
    "# Generar la visualización en HTML\n",
    "net.show(\"Gra.html\")"
   ]
  }
 ],
 "metadata": {
  "kernelspec": {
   "display_name": "Python 3",
   "language": "python",
   "name": "python3"
  },
  "language_info": {
   "codemirror_mode": {
    "name": "ipython",
    "version": 3
   },
   "file_extension": ".py",
   "mimetype": "text/x-python",
   "name": "python",
   "nbconvert_exporter": "python",
   "pygments_lexer": "ipython3",
   "version": "3.11.0"
  },
  "orig_nbformat": 4
 },
 "nbformat": 4,
 "nbformat_minor": 2
}
